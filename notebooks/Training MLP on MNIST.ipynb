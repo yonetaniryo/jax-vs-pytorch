{
 "cells": [
  {
   "cell_type": "code",
   "execution_count": 1,
   "id": "1e3e58ee-1f38-424d-b957-57201eb6ae4f",
   "metadata": {},
   "outputs": [],
   "source": [
    "import time\n",
    "\n",
    "# torch\n",
    "import torch\n",
    "import torch.nn as nn\n",
    "import torch.optim as optim\n",
    "\n",
    "# jax\n",
    "import jax\n",
    "import jax.numpy as jnp\n",
    "import flax.linen as fnn\n",
    "from flax.training import train_state\n",
    "import optax\n",
    "\n",
    "# dataset\n",
    "import tensorflow_datasets as tfds\n",
    "import tensorflow as tf\n"
   ]
  },
  {
   "cell_type": "code",
   "execution_count": 2,
   "id": "53c1287a-abbd-4500-985e-46970f0c269f",
   "metadata": {},
   "outputs": [],
   "source": [
    "# Dataloader (common)\n",
    "\n",
    "def preprocessing(x, y):\n",
    "    x = tf.reshape(tf.cast(x, tf.float32), (-1, 28 * 28)) / 255.\n",
    "    y = tf.one_hot(y, 10)\n",
    "    \n",
    "    return x, y\n",
    "\n",
    "ds = tfds.load(\"mnist\", as_supervised=True, shuffle_files=False, download=True)\n",
    "train_set = ds[\"train\"]\n",
    "train_set = train_set.shuffle(len(train_set), seed=0, reshuffle_each_iteration=True).batch(32).map(preprocessing).prefetch(1)\n",
    "val_set = ds[\"test\"]\n",
    "val_set = val_set.batch(32).map(preprocessing).prefetch(1)"
   ]
  },
  {
   "cell_type": "code",
   "execution_count": 3,
   "id": "f8a62a0b-f514-49bc-b4a9-eeba4f967e21",
   "metadata": {},
   "outputs": [
    {
     "name": "stderr",
     "output_type": "stream",
     "text": [
      "WARNING:absl:No GPU/TPU found, falling back to CPU. (Set TF_CPP_MIN_LOG_LEVEL=0 and rerun for more info.)\n"
     ]
    },
    {
     "name": "stdout",
     "output_type": "stream",
     "text": [
      "epoch: 0 | train_loss: 0.32, val_loss: 0.18, val_acc: 0.95, elapsed: 4.52\n",
      "epoch: 1 | train_loss: 0.16, val_loss: 0.14, val_acc: 0.96, elapsed: 1.66\n",
      "epoch: 2 | train_loss: 0.11, val_loss: 0.11, val_acc: 0.97, elapsed: 1.64\n",
      "epoch: 3 | train_loss: 0.09, val_loss: 0.09, val_acc: 0.97, elapsed: 1.60\n",
      "epoch: 4 | train_loss: 0.07, val_loss: 0.09, val_acc: 0.97, elapsed: 1.71\n"
     ]
    }
   ],
   "source": [
    "# jax\n",
    "\n",
    "class MLP(fnn.Module):\n",
    "    @fnn.compact\n",
    "    def __call__(self, x):\n",
    "        x = fnn.Dense(64)(x)\n",
    "        x = fnn.relu(x)\n",
    "        x = fnn.Dense(10)(x)\n",
    "        x = fnn.log_softmax(x)\n",
    "        \n",
    "        return x\n",
    "\n",
    "def step(state, batch, is_train):\n",
    "    x, y = [jnp.array(v) for v in batch]\n",
    "    def loss_fn(params):\n",
    "        logits = state.apply_fn({'params': params}, x)\n",
    "        loss = optax.softmax_cross_entropy(logits=logits, labels=y).mean()\n",
    "        return loss, logits\n",
    "    if is_train:\n",
    "        grad_fn = jax.value_and_grad(loss_fn, has_aux=True)\n",
    "        (loss, logits), grads = grad_fn(state.params)\n",
    "        state = state.apply_gradients(grads=grads)\n",
    "    else:\n",
    "        loss, logits = loss_fn(state.params)\n",
    "    acc = jnp.mean(jnp.argmax(logits, axis=-1) == jnp.argmax(y, axis=-1))\n",
    "    \n",
    "    return loss, acc, state\n",
    "\n",
    "@jax.jit\n",
    "def train_step(state, batch):\n",
    "    return step(state, batch, is_train=True)\n",
    "\n",
    "@jax.jit\n",
    "def eval_step(state, batch):\n",
    "    return step(state, batch, is_train=False)\n",
    "\n",
    "model = MLP()\n",
    "params = model.init(jax.random.PRNGKey(0), jnp.ones([1, 28 * 28]))['params']\n",
    "tx = optax.adam(0.001)\n",
    "state = train_state.TrainState.create(apply_fn=model.apply, params=params, tx=tx)\n",
    "\n",
    "for e in range(5):\n",
    "    tic = time.time()\n",
    "    train_loss, val_loss, val_acc = 0, 0, 0\n",
    "    for batch in train_set.as_numpy_iterator():\n",
    "        loss, acc, state = train_step(state, batch)\n",
    "        train_loss += loss\n",
    "    train_loss /= len(train_set)\n",
    "    for batch in val_set.as_numpy_iterator():\n",
    "        loss, acc, state = eval_step(state, batch)\n",
    "        val_loss += loss\n",
    "        val_acc += acc\n",
    "    val_loss /= len(val_set)\n",
    "    val_acc /= len(val_set)\n",
    "    elapsed = time.time() - tic\n",
    "    print(f\"epoch: {e} | train_loss: {train_loss:0.2f}, val_loss: {val_loss:0.2f}, val_acc: {val_acc:0.2f}, elapsed: {elapsed:0.2f}\")"
   ]
  },
  {
   "cell_type": "code",
   "execution_count": 4,
   "id": "d456a7d7-3ef1-4f1f-b224-a3e631d8bb67",
   "metadata": {},
   "outputs": [
    {
     "name": "stderr",
     "output_type": "stream",
     "text": [
      "/tmp/ipykernel_26097/1740061557.py:18: UserWarning: The given NumPy array is not writeable, and PyTorch does not support non-writeable tensors. This means you can write to the underlying (supposedly non-writeable) NumPy array using the tensor. You may want to copy the array to protect its data or make it writeable before converting it to a tensor. This type of warning will be suppressed for the rest of this program. (Triggered internally at  ../torch/csrc/utils/tensor_numpy.cpp:180.)\n",
      "  x, y = [torch.from_numpy(v) for v in batch]\n"
     ]
    },
    {
     "name": "stdout",
     "output_type": "stream",
     "text": [
      "epoch: 0 | train_loss: 0.35, val_loss: 0.18, val_acc: 0.95, elapsed: 2.45\n",
      "epoch: 1 | train_loss: 0.16, val_loss: 0.13, val_acc: 0.96, elapsed: 2.33\n",
      "epoch: 2 | train_loss: 0.12, val_loss: 0.11, val_acc: 0.97, elapsed: 2.44\n",
      "epoch: 3 | train_loss: 0.09, val_loss: 0.10, val_acc: 0.97, elapsed: 2.48\n",
      "epoch: 4 | train_loss: 0.08, val_loss: 0.09, val_acc: 0.97, elapsed: 2.33\n"
     ]
    }
   ],
   "source": [
    "# pytorch\n",
    "\n",
    "class MLP(nn.Module):\n",
    "    def __init__(self):\n",
    "        super().__init__()\n",
    "        self.net = nn.Sequential(nn.Linear(28 * 28, 64), nn.ReLU(),\n",
    "                                 nn.Linear(64, 10), nn.LogSoftmax(-1))\n",
    "        \n",
    "    def forward(self, x):\n",
    "        return self.net(x)\n",
    "\n",
    "\n",
    "model = MLP()\n",
    "opt = optim.Adam(model.parameters(), lr=0.001)\n",
    "criterion = nn.NLLLoss()\n",
    "\n",
    "def step(model, batch, is_train):\n",
    "    x, y = [torch.from_numpy(v) for v in batch]\n",
    "    y = y.max(-1)[1]\n",
    "    y_pred = model(x)\n",
    "    loss = criterion(y_pred, y)\n",
    "    if is_train:\n",
    "        opt.zero_grad()\n",
    "        loss.backward()\n",
    "        opt.step()\n",
    "    acc = torch.mean((y_pred.max(-1)[1] == y).float())\n",
    "    return loss, acc\n",
    "\n",
    "def train_step(model, batch):\n",
    "    model.train()\n",
    "    return step(model, batch, is_train=True)\n",
    "\n",
    "def eval_step(model, batch):\n",
    "    model.eval()\n",
    "    with torch.no_grad():\n",
    "        return step(model, batch, is_train=False)\n",
    "\n",
    "for e in range(5):\n",
    "    tic = time.time()\n",
    "    train_loss, val_loss, val_acc = 0, 0, 0\n",
    "    for batch in train_set.as_numpy_iterator():\n",
    "        loss, acc = train_step(model, batch)\n",
    "        train_loss += loss\n",
    "    train_loss /= len(train_set)\n",
    "    for batch in val_set.as_numpy_iterator():\n",
    "        loss, acc = eval_step(model, batch)\n",
    "        val_loss += loss\n",
    "        val_acc += acc\n",
    "    val_loss /= len(val_set)\n",
    "    val_acc /= len(val_set)\n",
    "    elapsed = time.time() - tic\n",
    "    print(f\"epoch: {e} | train_loss: {train_loss:0.2f}, val_loss: {val_loss:0.2f}, val_acc: {val_acc:0.2f}, elapsed: {elapsed:0.2f}\")"
   ]
  },
  {
   "cell_type": "code",
   "execution_count": null,
   "id": "11084c94-cb63-4b28-a7ae-702c574987bc",
   "metadata": {},
   "outputs": [],
   "source": []
  }
 ],
 "metadata": {
  "kernelspec": {
   "display_name": "Python 3 (ipykernel)",
   "language": "python",
   "name": "python3"
  },
  "language_info": {
   "codemirror_mode": {
    "name": "ipython",
    "version": 3
   },
   "file_extension": ".py",
   "mimetype": "text/x-python",
   "name": "python",
   "nbconvert_exporter": "python",
   "pygments_lexer": "ipython3",
   "version": "3.9.5"
  }
 },
 "nbformat": 4,
 "nbformat_minor": 5
}
