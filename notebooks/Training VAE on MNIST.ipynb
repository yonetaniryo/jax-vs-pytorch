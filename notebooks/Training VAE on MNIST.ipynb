{
 "cells": [
  {
   "cell_type": "code",
   "execution_count": 1,
   "id": "9431e916-3a8f-4a2e-a062-b142579f3f2f",
   "metadata": {},
   "outputs": [],
   "source": [
    "import time\n",
    "\n",
    "# torch\n",
    "import torch\n",
    "import torch.nn as nn\n",
    "import torch.optim as optim\n",
    "\n",
    "# jax\n",
    "import jax\n",
    "import jax.numpy as jnp\n",
    "import flax.linen as fnn\n",
    "from flax.training import train_state\n",
    "import optax\n",
    "\n",
    "# dataset\n",
    "import tensorflow_datasets as tfds\n",
    "import tensorflow as tf\n",
    "\n",
    "import numpy as np\n",
    "import matplotlib.pyplot as plt\n",
    "\n",
    "physical_devices = tf.config.experimental.list_physical_devices(\"GPU\")\n",
    "tf.config.experimental.set_memory_growth(physical_devices[0], True)\n",
    "tf.config.experimental.set_memory_growth(physical_devices[1], True)"
   ]
  },
  {
   "cell_type": "code",
   "execution_count": 2,
   "id": "296628a2-65c2-4372-ba99-c4a417ccb396",
   "metadata": {},
   "outputs": [],
   "source": [
    "# Dataloader (common)\n",
    "\n",
    "def preprocessing(x):\n",
    "    x = tf.cast(x[\"image\"], tf.float32) / 255.\n",
    "    return x\n",
    "\n",
    "ds = tfds.load(\"mnist\", as_supervised=False, shuffle_files=False, download=True)\n",
    "train_set = ds[\"train\"]\n",
    "train_set = train_set.shuffle(len(train_set), seed=0, reshuffle_each_iteration=True).batch(32).map(preprocessing).prefetch(1)\n",
    "val_set = ds[\"test\"]\n",
    "val_set = val_set.batch(32).map(preprocessing).prefetch(1)"
   ]
  },
  {
   "cell_type": "code",
   "execution_count": 3,
   "id": "7ade8a0e-971c-44fb-af0a-1e7e02401203",
   "metadata": {},
   "outputs": [
    {
     "name": "stdout",
     "output_type": "stream",
     "text": [
      "epoch: 0 | train_loss: 4198.54, elapsed: 6.11\n",
      "epoch: 1 | train_loss: 3628.01, elapsed: 2.74\n",
      "epoch: 2 | train_loss: 3542.19, elapsed: 2.87\n",
      "epoch: 3 | train_loss: 3497.75, elapsed: 2.85\n",
      "epoch: 4 | train_loss: 3468.73, elapsed: 2.82\n"
     ]
    }
   ],
   "source": [
    "# jax\n",
    "\n",
    "class Encoder(fnn.Module):\n",
    "    @fnn.compact\n",
    "    def __call__(self, x):\n",
    "        x = fnn.Dense(400)(x.reshape(-1, 784))\n",
    "        x = fnn.relu(x)\n",
    "        mu = fnn.Dense(20)(x)\n",
    "        logvar = fnn.Dense(20)(x)\n",
    "        \n",
    "        return mu, logvar\n",
    "\n",
    "class Decoder(fnn.Module):\n",
    "    @fnn.compact\n",
    "    def __call__(self, x):\n",
    "        x = fnn.Dense(400)(x)\n",
    "        x = fnn.relu(x)\n",
    "        x = fnn.Dense(784)(x)\n",
    "        recon_x = x.reshape(-1, 28, 28, 1)\n",
    "        return recon_x\n",
    "\n",
    "class VAE(fnn.Module):\n",
    "    \n",
    "    @fnn.compact\n",
    "    def __call__(self, x, z_rng):\n",
    "        mu, logvar = Encoder()(x)\n",
    "        z = self.reparameterize(z_rng, mu, logvar)\n",
    "        recon_x = Decoder()(z)\n",
    "        \n",
    "        return recon_x, mu, logvar\n",
    "        \n",
    "    def reparameterize(self, rng, mu, logvar):\n",
    "        std = jnp.exp(0.5 * logvar)\n",
    "        eps = jax.random.normal(rng, logvar.shape)\n",
    "        return mu + eps * std \n",
    "    \n",
    "key = jax.random.PRNGKey(0)\n",
    "rng1, key = jax.random.split(key)\n",
    "rng2, key = jax.random.split(key)\n",
    "\n",
    "model = VAE()\n",
    "params = model.init(rng1, jnp.ones([1, 28, 28, 1]), rng2)['params']\n",
    "tx = optax.adam(0.001)\n",
    "state = train_state.TrainState.create(apply_fn=model.apply, params=params, tx=tx)\n",
    "\n",
    "def loss_function(x, recon_x, mu, logvar):\n",
    "    KLD = -0.5 * jnp.sum(1 + logvar - jnp.square(mu) - jnp.exp(logvar))\n",
    "    # inside the optax.sigmoid_bce, the recon_x is first fed to nn.logsigmoid\n",
    "    # https://github.com/deepmind/optax/blob/master/optax/_src/loss.py#L116#L138\n",
    "    BCE = optax.sigmoid_binary_cross_entropy(recon_x, x).sum()\n",
    "    return BCE + KLD\n",
    "\n",
    "@jax.jit\n",
    "def train_step(state, batch, z_rng):\n",
    "    x = jnp.array(batch)\n",
    "    def loss_fn(params):\n",
    "        recon_x, mu, logvar = state.apply_fn({'params': params}, x, z_rng)\n",
    "        loss = loss_function(x, recon_x, mu, logvar)\n",
    "        return loss, recon_x\n",
    "    \n",
    "    grad_fn = jax.value_and_grad(loss_fn, has_aux=True)\n",
    "    (loss, recon_x), grads = grad_fn(state.params)\n",
    "    state = state.apply_gradients(grads=grads)\n",
    "    \n",
    "    return loss, recon_x, state\n",
    "\n",
    "for e in range(5):\n",
    "    tic = time.time()\n",
    "    train_loss = 0\n",
    "    for batch in train_set.as_numpy_iterator():\n",
    "        z_rng, key = jax.random.split(key)\n",
    "        loss, recon_x, state = train_step(state, batch, z_rng)\n",
    "        train_loss += loss\n",
    "    train_loss /= len(train_set)\n",
    "    elapsed = time.time() - tic\n",
    "    print(f\"epoch: {e} | train_loss: {train_loss:0.2f}, elapsed: {elapsed:0.2f}\")"
   ]
  },
  {
   "cell_type": "code",
   "execution_count": 4,
   "id": "d0fff398-0062-4551-bcaf-a995744c3e3f",
   "metadata": {},
   "outputs": [
    {
     "data": {
      "text/plain": [
       "<matplotlib.image.AxesImage at 0x7fa1404683d0>"
      ]
     },
     "execution_count": 4,
     "metadata": {},
     "output_type": "execute_result"
    },
    {
     "data": {
      "image/png": "[encoded data removed]",
      "text/plain": [
       "<Figure size 432x288 with 1 Axes>"
      ]
     },
     "metadata": {
      "needs_background": "light"
     },
     "output_type": "display_data"
    }
   ],
   "source": [
    "plt.imshow(fnn.sigmoid(recon_x[0]))"
   ]
  },
  {
   "cell_type": "code",
   "execution_count": 5,
   "id": "e945e5be-c168-48f5-b8a3-cb9348480701",
   "metadata": {},
   "outputs": [
    {
     "name": "stderr",
     "output_type": "stream",
     "text": [
      "/tmp/ipykernel_11593/1474508580.py:41: UserWarning: The given NumPy array is not writeable, and PyTorch does not support non-writeable tensors. This means you can write to the underlying (supposedly non-writeable) NumPy array using the tensor. You may want to copy the array to protect its data or make it writeable before converting it to a tensor. This type of warning will be suppressed for the rest of this program. (Triggered internally at  ../torch/csrc/utils/tensor_numpy.cpp:180.)\n",
      "  x = torch.from_numpy(batch).to(device).permute(0, 3, 1, 2)\n"
     ]
    },
    {
     "name": "stdout",
     "output_type": "stream",
     "text": [
      "epoch: 0 | train_loss: 4388.47, elapsed: 6.48\n",
      "epoch: 1 | train_loss: 3629.27, elapsed: 6.35\n",
      "epoch: 2 | train_loss: 3526.95, elapsed: 6.49\n",
      "epoch: 3 | train_loss: 3480.09, elapsed: 6.44\n",
      "epoch: 4 | train_loss: 3450.51, elapsed: 6.59\n"
     ]
    }
   ],
   "source": [
    "\n",
    "device = \"cuda:1\" if torch.cuda.is_available() else \"cpu\"\n",
    "\n",
    "class VAE(nn.Module):\n",
    "    def __init__(self):\n",
    "        super(VAE, self).__init__()\n",
    "\n",
    "        self.fc1 = nn.Linear(784, 400)\n",
    "        self.fc21 = nn.Linear(400, 20)\n",
    "        self.fc22 = nn.Linear(400, 20)\n",
    "        self.fc3 = nn.Linear(20, 400)\n",
    "        self.fc4 = nn.Linear(400, 784)\n",
    "\n",
    "    def encode(self, x):\n",
    "        h1 = torch.relu(self.fc1(x))\n",
    "        return self.fc21(h1), self.fc22(h1)\n",
    "\n",
    "    def reparameterize(self, mu, logvar):\n",
    "        std = torch.exp(0.5*logvar)\n",
    "        eps = torch.randn_like(std)\n",
    "        return mu + eps*std\n",
    "\n",
    "    def decode(self, z):\n",
    "        h3 = torch.relu(self.fc3(z))\n",
    "        return torch.sigmoid(self.fc4(h3))\n",
    "\n",
    "    def forward(self, x):\n",
    "        mu, logvar = self.encode(x.view(-1, 784))\n",
    "        z = self.reparameterize(mu, logvar)\n",
    "        recon_x = self.decode(z).reshape(len(x), 1, 28, 28)\n",
    "        return recon_x, mu, logvar\n",
    "    \n",
    "def loss_function(recon_x, x, mu, logvar):\n",
    "    BCE = nn.BCELoss(reduction='sum')(recon_x, x)\n",
    "    KLD = -0.5 * torch.sum(1 + logvar - mu.pow(2) - logvar.exp())\n",
    "    return  KLD + BCE\n",
    "\n",
    "model = VAE().to(device)\n",
    "opt = optim.Adam(model.parameters(), lr=0.001)\n",
    "\n",
    "def train_step(model, batch):\n",
    "    x = torch.from_numpy(batch).to(device).permute(0, 3, 1, 2)\n",
    "    recon_x, mu, logvar = model(x)\n",
    "    loss = loss_function(recon_x, x, mu, logvar)\n",
    "    opt.zero_grad()\n",
    "    loss.backward()\n",
    "    opt.step()\n",
    "    return loss, recon_x\n",
    "    \n",
    "for e in range(5):\n",
    "    tic = time.time()\n",
    "    train_loss = 0\n",
    "    for batch in train_set.as_numpy_iterator():\n",
    "        loss, recon_x = train_step(model, batch)\n",
    "        train_loss += loss\n",
    "    train_loss /= len(train_set)\n",
    "    elapsed = time.time() - tic\n",
    "    print(f\"epoch: {e} | train_loss: {train_loss:0.2f}, elapsed: {elapsed:0.2f}\")"
   ]
  },
  {
   "cell_type": "code",
   "execution_count": 6,
   "id": "4a7adbd7-24c5-4720-9062-cd8dbf3f337d",
   "metadata": {},
   "outputs": [
    {
     "data": {
      "text/plain": [
       "<matplotlib.image.AxesImage at 0x7fa14032c100>"
      ]
     },
     "execution_count": 6,
     "metadata": {},
     "output_type": "execute_result"
    },
    {
     "data": {
      "image/png": "[encoded data removed]",
      "text/plain": [
       "<Figure size 432x288 with 1 Axes>"
      ]
     },
     "metadata": {
      "needs_background": "light"
     },
     "output_type": "display_data"
    }
   ],
   "source": [
    "plt.imshow(recon_x[0].reshape(28, 28).detach().cpu())"
   ]
  },
  {
   "cell_type": "code",
   "execution_count": null,
   "id": "7f4ea6d2-62d9-4ded-99ff-b38c06755ce0",
   "metadata": {},
   "outputs": [],
   "source": []
  }
 ],
 "metadata": {
  "kernelspec": {
   "display_name": "Python 3 (ipykernel)",
   "language": "python",
   "name": "python3"
  },
  "language_info": {
   "codemirror_mode": {
    "name": "ipython",
    "version": 3
   },
   "file_extension": ".py",
   "mimetype": "text/x-python",
   "name": "python",
   "nbconvert_exporter": "python",
   "pygments_lexer": "ipython3",
   "version": "3.9.7"
  }
 },
 "nbformat": 4,
 "nbformat_minor": 5
}
