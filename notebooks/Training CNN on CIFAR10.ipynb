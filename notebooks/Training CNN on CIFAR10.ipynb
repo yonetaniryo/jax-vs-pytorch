{
 "cells": [
  {
   "cell_type": "code",
   "execution_count": 1,
   "id": "1e3e58ee-1f38-424d-b957-57201eb6ae4f",
   "metadata": {},
   "outputs": [],
   "source": [
    "import time\n",
    "from tqdm import tqdm\n",
    "\n",
    "# torch\n",
    "import torch\n",
    "import torch.nn as nn\n",
    "import torch.optim as optim\n",
    "\n",
    "# jax\n",
    "import jax\n",
    "import jax.numpy as jnp\n",
    "import flax.linen as fnn\n",
    "from flax.training import train_state\n",
    "import optax\n",
    "\n",
    "# dataset\n",
    "import tensorflow_datasets as tfds\n",
    "import tensorflow as tf\n",
    "\n",
    "physical_devices = tf.config.experimental.list_physical_devices(\"GPU\")\n",
    "tf.config.experimental.set_memory_growth(physical_devices[0], True)\n",
    "tf.config.experimental.set_memory_growth(physical_devices[1], True)"
   ]
  },
  {
   "cell_type": "code",
   "execution_count": 2,
   "id": "53c1287a-abbd-4500-985e-46970f0c269f",
   "metadata": {},
   "outputs": [],
   "source": [
    "# Dataloader (common)\n",
    "\n",
    "def preprocessing(x, y):\n",
    "    x = tf.cast(x, tf.float32) / 255.\n",
    "    y = tf.one_hot(y, 10)\n",
    "    \n",
    "    return x, y\n",
    "\n",
    "ds = tfds.load(\"cifar10\", as_supervised=True, shuffle_files=False, download=True)\n",
    "train_set = ds[\"train\"]\n",
    "train_set = train_set.shuffle(len(train_set), seed=0, reshuffle_each_iteration=True).batch(32).map(preprocessing).prefetch(1)\n",
    "val_set = ds[\"test\"]\n",
    "val_set = val_set.batch(32).map(preprocessing).prefetch(1)"
   ]
  },
  {
   "cell_type": "code",
   "execution_count": 3,
   "id": "f8a62a0b-f514-49bc-b4a9-eeba4f967e21",
   "metadata": {},
   "outputs": [
    {
     "name": "stderr",
     "output_type": "stream",
     "text": [
      "1563it [00:07, 215.43it/s]\n",
      "313it [00:01, 198.16it/s]\n"
     ]
    },
    {
     "name": "stdout",
     "output_type": "stream",
     "text": [
      "epoch: 0 | train_loss: 1.32, val_loss: 1.05, val_acc: 0.63, elapsed: 8.99\n"
     ]
    },
    {
     "name": "stderr",
     "output_type": "stream",
     "text": [
      "1563it [00:03, 519.37it/s]\n",
      "313it [00:00, 711.09it/s]\n"
     ]
    },
    {
     "name": "stdout",
     "output_type": "stream",
     "text": [
      "epoch: 1 | train_loss: 0.94, val_loss: 0.92, val_acc: 0.68, elapsed: 3.51\n"
     ]
    },
    {
     "name": "stderr",
     "output_type": "stream",
     "text": [
      "1563it [00:03, 517.89it/s]\n",
      "313it [00:00, 735.16it/s]\n"
     ]
    },
    {
     "name": "stdout",
     "output_type": "stream",
     "text": [
      "epoch: 2 | train_loss: 0.79, val_loss: 0.86, val_acc: 0.71, elapsed: 3.70\n"
     ]
    },
    {
     "name": "stderr",
     "output_type": "stream",
     "text": [
      "1563it [00:03, 510.90it/s]\n",
      "313it [00:00, 715.82it/s]\n"
     ]
    },
    {
     "name": "stdout",
     "output_type": "stream",
     "text": [
      "epoch: 3 | train_loss: 0.66, val_loss: 0.85, val_acc: 0.72, elapsed: 3.75\n"
     ]
    },
    {
     "name": "stderr",
     "output_type": "stream",
     "text": [
      "1563it [00:03, 516.97it/s]\n",
      "313it [00:00, 731.86it/s]"
     ]
    },
    {
     "name": "stdout",
     "output_type": "stream",
     "text": [
      "epoch: 4 | train_loss: 0.55, val_loss: 0.87, val_acc: 0.72, elapsed: 5.60\n"
     ]
    },
    {
     "name": "stderr",
     "output_type": "stream",
     "text": [
      "\n"
     ]
    }
   ],
   "source": [
    "# jax\n",
    "\n",
    "class CNN(fnn.Module):\n",
    "    @fnn.compact\n",
    "    def __call__(self, x):\n",
    "        x = fnn.Conv(features=32, kernel_size=(3, 3))(x)\n",
    "        x = fnn.relu(x)\n",
    "        x = fnn.max_pool(x, window_shape=(2, 2), strides=(2, 2))\n",
    "        x = fnn.Conv(features=64, kernel_size=(3, 3))(x)\n",
    "        x = fnn.relu(x)\n",
    "        x = fnn.max_pool(x, window_shape=(2, 2), strides=(2, 2))\n",
    "        x = x.reshape((x.shape[0], -1))  # flatten\n",
    "        x = fnn.Dense(features=256)(x)\n",
    "        x = fnn.relu(x)\n",
    "        x = fnn.Dense(features=10)(x)\n",
    "        x = fnn.log_softmax(x)\n",
    "        \n",
    "        return x\n",
    "\n",
    "def step(state, batch, is_train):\n",
    "    x, y = [jnp.array(v) for v in batch]\n",
    "    def loss_fn(params):\n",
    "        logits = state.apply_fn({'params': params}, x)\n",
    "        loss = optax.softmax_cross_entropy(logits=logits, labels=y).mean()\n",
    "        return loss, logits\n",
    "    if is_train:\n",
    "        grad_fn = jax.value_and_grad(loss_fn, has_aux=True)\n",
    "        (loss, logits), grads = grad_fn(state.params)\n",
    "        state = state.apply_gradients(grads=grads)\n",
    "    else:\n",
    "        loss, logits = loss_fn(state.params)\n",
    "    acc = jnp.mean(jnp.argmax(logits, axis=-1) == jnp.argmax(y, axis=-1))\n",
    "    \n",
    "    return loss, acc, state\n",
    "\n",
    "@jax.jit\n",
    "def train_step(state, batch):\n",
    "    return step(state, batch, is_train=True)\n",
    "\n",
    "@jax.jit\n",
    "def eval_step(state, batch):\n",
    "    return step(state, batch, is_train=False)\n",
    "\n",
    "model = CNN()\n",
    "params = model.init(jax.random.PRNGKey(0), jnp.ones([1, 32, 32, 3]))['params']\n",
    "tx = optax.adam(0.001)\n",
    "state = train_state.TrainState.create(apply_fn=model.apply, params=params, tx=tx)\n",
    "\n",
    "for e in range(5):\n",
    "    tic = time.time()\n",
    "    train_loss, val_loss, val_acc = 0, 0, 0\n",
    "    for batch in tqdm(train_set.as_numpy_iterator()):\n",
    "        loss, acc, state = train_step(state, batch)\n",
    "        train_loss += loss\n",
    "    train_loss /= len(train_set)\n",
    "    for batch in tqdm(val_set.as_numpy_iterator()):\n",
    "        loss, acc, state = eval_step(state, batch)\n",
    "        val_loss += loss\n",
    "        val_acc += acc\n",
    "    val_loss /= len(val_set)\n",
    "    val_acc /= len(val_set)\n",
    "    elapsed = time.time() - tic\n",
    "    print(f\"epoch: {e} | train_loss: {train_loss:0.2f}, val_loss: {val_loss:0.2f}, val_acc: {val_acc:0.2f}, elapsed: {elapsed:0.2f}\")"
   ]
  },
  {
   "cell_type": "code",
   "execution_count": 4,
   "id": "d456a7d7-3ef1-4f1f-b224-a3e631d8bb67",
   "metadata": {},
   "outputs": [
    {
     "name": "stderr",
     "output_type": "stream",
     "text": [
      "0it [00:00, ?it/s]/tmp/ipykernel_2563/2908110845.py:33: UserWarning: The given NumPy array is not writeable, and PyTorch does not support non-writeable tensors. This means you can write to the underlying (supposedly non-writeable) NumPy array using the tensor. You may want to copy the array to protect its data or make it writeable before converting it to a tensor. This type of warning will be suppressed for the rest of this program. (Triggered internally at  ../torch/csrc/utils/tensor_numpy.cpp:180.)\n",
      "  x, y = [torch.from_numpy(v) for v in batch]\n",
      "1563it [00:04, 358.42it/s]\n",
      "313it [00:00, 802.69it/s]\n"
     ]
    },
    {
     "name": "stdout",
     "output_type": "stream",
     "text": [
      "epoch: 0 | train_loss: 1.38, val_loss: 1.10, val_acc: 0.61, elapsed: 5.04\n"
     ]
    },
    {
     "name": "stderr",
     "output_type": "stream",
     "text": [
      "1563it [00:04, 356.24it/s]\n",
      "313it [00:00, 762.60it/s]\n"
     ]
    },
    {
     "name": "stdout",
     "output_type": "stream",
     "text": [
      "epoch: 1 | train_loss: 1.01, val_loss: 1.00, val_acc: 0.65, elapsed: 5.08\n"
     ]
    },
    {
     "name": "stderr",
     "output_type": "stream",
     "text": [
      "1563it [00:04, 366.97it/s]\n",
      "313it [00:00, 781.58it/s]\n"
     ]
    },
    {
     "name": "stdout",
     "output_type": "stream",
     "text": [
      "epoch: 2 | train_loss: 0.85, val_loss: 0.92, val_acc: 0.68, elapsed: 4.96\n"
     ]
    },
    {
     "name": "stderr",
     "output_type": "stream",
     "text": [
      "1563it [00:04, 363.06it/s]\n",
      "313it [00:00, 901.76it/s]\n"
     ]
    },
    {
     "name": "stdout",
     "output_type": "stream",
     "text": [
      "epoch: 3 | train_loss: 0.72, val_loss: 0.87, val_acc: 0.70, elapsed: 5.81\n"
     ]
    },
    {
     "name": "stderr",
     "output_type": "stream",
     "text": [
      "1563it [00:04, 347.23it/s]\n",
      "313it [00:00, 726.20it/s]\n"
     ]
    },
    {
     "name": "stdout",
     "output_type": "stream",
     "text": [
      "epoch: 4 | train_loss: 0.61, val_loss: 0.89, val_acc: 0.70, elapsed: 5.20\n"
     ]
    }
   ],
   "source": [
    "# pytorch\n",
    "\n",
    "device = \"cuda:1\" if torch.cuda.is_available() else \"cpu\"\n",
    "\n",
    "class CNN(nn.Module):\n",
    "    def __init__(self):\n",
    "        super().__init__()\n",
    "        self.conv1 = nn.Conv2d(3, 32, 3, padding=1)\n",
    "        self.conv2 = nn.Conv2d(32, 64, 3, padding=1)\n",
    "        self.fc1 = nn.Linear(4096, 256)\n",
    "        self.fc2 = nn.Linear(256, 10)\n",
    "        \n",
    "    def forward(self, x):\n",
    "        h = self.conv1(x)\n",
    "        h = torch.relu(h)\n",
    "        h = torch.max_pool2d(h, (2, 2))\n",
    "        h = self.conv2(h)\n",
    "        h = torch.relu(h)\n",
    "        h = torch.max_pool2d(h, (2, 2))\n",
    "        h = h.reshape(len(h), -1)\n",
    "        h = self.fc1(h)\n",
    "        h = torch.relu(h)\n",
    "        h = self.fc2(h)\n",
    "        y = torch.log_softmax(h, -1)\n",
    "        return y\n",
    "\n",
    "\n",
    "model = CNN().to(device)\n",
    "opt = optim.Adam(model.parameters(), lr=0.001)\n",
    "criterion = nn.NLLLoss()\n",
    "\n",
    "def step(model, batch, is_train):\n",
    "    x, y = [torch.from_numpy(v) for v in batch]\n",
    "    x = x.permute(0, 3, 1, 2).to(device)\n",
    "    y = y.max(-1)[1].to(device)\n",
    "    y_pred = model(x)\n",
    "    loss = criterion(y_pred, y)\n",
    "    if is_train:\n",
    "        opt.zero_grad()\n",
    "        loss.backward()\n",
    "        opt.step()\n",
    "    acc = torch.mean((y_pred.max(-1)[1] == y).float())\n",
    "    return loss, acc\n",
    "\n",
    "def train_step(model, batch):\n",
    "    model.train()\n",
    "    return step(model, batch, is_train=True)\n",
    "\n",
    "def eval_step(model, batch):\n",
    "    model.eval()\n",
    "    with torch.no_grad():\n",
    "        return step(model, batch, is_train=False)\n",
    "\n",
    "for e in range(5):\n",
    "    tic = time.time()\n",
    "    train_loss, val_loss, val_acc = 0, 0, 0\n",
    "    for batch in tqdm(train_set.as_numpy_iterator()):\n",
    "        loss, acc = train_step(model, batch)\n",
    "        train_loss += loss\n",
    "    train_loss /= len(train_set)\n",
    "    for batch in tqdm(val_set.as_numpy_iterator()):\n",
    "        loss, acc = eval_step(model, batch)\n",
    "        val_loss += loss\n",
    "        val_acc += acc\n",
    "    val_loss /= len(val_set)\n",
    "    val_acc /= len(val_set)\n",
    "    elapsed = time.time() - tic\n",
    "    print(f\"epoch: {e} | train_loss: {train_loss:0.2f}, val_loss: {val_loss:0.2f}, val_acc: {val_acc:0.2f}, elapsed: {elapsed:0.2f}\")"
   ]
  },
  {
   "cell_type": "code",
   "execution_count": null,
   "id": "11084c94-cb63-4b28-a7ae-702c574987bc",
   "metadata": {},
   "outputs": [],
   "source": []
  }
 ],
 "metadata": {
  "kernelspec": {
   "display_name": "Python 3 (ipykernel)",
   "language": "python",
   "name": "python3"
  },
  "language_info": {
   "codemirror_mode": {
    "name": "ipython",
    "version": 3
   },
   "file_extension": ".py",
   "mimetype": "text/x-python",
   "name": "python",
   "nbconvert_exporter": "python",
   "pygments_lexer": "ipython3",
   "version": "3.9.7"
  }
 },
 "nbformat": 4,
 "nbformat_minor": 5
}
